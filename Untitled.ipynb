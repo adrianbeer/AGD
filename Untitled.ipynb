{
 "cells": [
  {
   "cell_type": "code",
   "execution_count": 1,
   "metadata": {},
   "outputs": [],
   "source": [
    "from matplotlib import pyplot as plt\n",
    "import pandas as pd\n",
    "import sklearn\n",
    "from sklearn.model_selection import train_test_split, cross_val_score, GridSearchCV\n",
    "from sklearn.metrics import matthews_corrcoef, make_scorer\n",
    "from scipy.stats import entropy\n",
    "import seaborn as sns\n",
    "\n",
    "matthews_scorer = make_scorer(matthews_corrcoef)"
   ]
  },
  {
   "cell_type": "markdown",
   "metadata": {},
   "source": [
    "# Beschreibung\n",
    "- Binäres Klassifikationsproblem\n",
    "- Kriterium: Matthews Correlation Coefficient \n",
    "\n",
    "predictive attributes, 1 non-predictive(p1), 2 goal fields:\n",
    "-----------------------------------------------------------\n",
    "- The dataset doesnt contain missing values\n",
    "- tau[x]: reaction time of participant (real from the range [0.5,10]s). Tau1 - the value for electricity producer.\n",
    "- p[x]: nominal power consumed(negative)/produced(positive)(real). For consumers from the range [-0.5,-2]s^-2; p1 = abs(p2 + p3 + p4)\n",
    "- g[x]: coefficient (gamma) proportional to price elasticity (real from the range [0.05,1]s^-1). g1 - the value for electricity producer.\n",
    "- stab: the maximal real part of the characteristic equation root (if positive - the system is linearly unstable)(real)\n",
    "- stabf: the stability label of the system (categorical: stable/unstable) "
   ]
  },
  {
   "cell_type": "code",
   "execution_count": 2,
   "metadata": {},
   "outputs": [],
   "source": [
    "train_values = pd.read_csv('train_values.csv', sep='|')\n",
    "train_labels = pd.read_csv('train_labels.csv', sep='|')"
   ]
  },
  {
   "cell_type": "markdown",
   "metadata": {},
   "source": [
    "# Feature Engineering (Target Values)"
   ]
  },
  {
   "cell_type": "code",
   "execution_count": 3,
   "metadata": {},
   "outputs": [
    {
     "data": {
      "text/plain": [
       "unstable    5104\n",
       "stable      2896\n",
       "Name: target, dtype: int64"
      ]
     },
     "execution_count": 3,
     "metadata": {},
     "output_type": "execute_result"
    }
   ],
   "source": [
    "train_y = train_labels['target']\n",
    "train_y.value_counts()"
   ]
  },
  {
   "cell_type": "markdown",
   "metadata": {},
   "source": [
    "Da wir ein **binäres Klassifikationsproblem** vorliegen haben, wandeln wir den dtype der `target`-Spalte in `bool` um."
   ]
  },
  {
   "cell_type": "code",
   "execution_count": 4,
   "metadata": {},
   "outputs": [
    {
     "name": "stdout",
     "output_type": "stream",
     "text": [
      "False    5104\n",
      "True     2896\n",
      "Name: target, dtype: int64\n",
      "dtype: bool\n"
     ]
    }
   ],
   "source": [
    "train_y = train_y.apply(lambda x: True if x =='stable' else False)\n",
    "print(train_y.value_counts())\n",
    "print(f\"dtype: {train_y.dtype}\")"
   ]
  },
  {
   "cell_type": "code",
   "execution_count": 5,
   "metadata": {},
   "outputs": [
    {
     "data": {
      "text/html": [
       "<div>\n",
       "<style scoped>\n",
       "    .dataframe tbody tr th:only-of-type {\n",
       "        vertical-align: middle;\n",
       "    }\n",
       "\n",
       "    .dataframe tbody tr th {\n",
       "        vertical-align: top;\n",
       "    }\n",
       "\n",
       "    .dataframe thead th {\n",
       "        text-align: right;\n",
       "    }\n",
       "</style>\n",
       "<table border=\"1\" class=\"dataframe\">\n",
       "  <thead>\n",
       "    <tr style=\"text-align: right;\">\n",
       "      <th></th>\n",
       "      <th>tau1</th>\n",
       "      <th>tau2</th>\n",
       "      <th>tau3</th>\n",
       "      <th>tau4</th>\n",
       "      <th>p1</th>\n",
       "      <th>p2</th>\n",
       "      <th>p3</th>\n",
       "      <th>p4</th>\n",
       "      <th>g1</th>\n",
       "      <th>g2</th>\n",
       "      <th>g3</th>\n",
       "      <th>g4</th>\n",
       "      <th>target</th>\n",
       "    </tr>\n",
       "  </thead>\n",
       "  <tbody>\n",
       "    <tr>\n",
       "      <td>0</td>\n",
       "      <td>2.959060</td>\n",
       "      <td>3.079885</td>\n",
       "      <td>8.381025</td>\n",
       "      <td>9.780754</td>\n",
       "      <td>3.763085</td>\n",
       "      <td>-0.782604</td>\n",
       "      <td>-1.257395</td>\n",
       "      <td>-1.723086</td>\n",
       "      <td>0.650456</td>\n",
       "      <td>0.859578</td>\n",
       "      <td>0.887445</td>\n",
       "      <td>0.958034</td>\n",
       "      <td>False</td>\n",
       "    </tr>\n",
       "    <tr>\n",
       "      <td>1</td>\n",
       "      <td>9.304097</td>\n",
       "      <td>4.902524</td>\n",
       "      <td>3.047541</td>\n",
       "      <td>1.369357</td>\n",
       "      <td>5.067812</td>\n",
       "      <td>-1.940058</td>\n",
       "      <td>-1.872742</td>\n",
       "      <td>-1.255012</td>\n",
       "      <td>0.413441</td>\n",
       "      <td>0.862414</td>\n",
       "      <td>0.562139</td>\n",
       "      <td>0.781760</td>\n",
       "      <td>True</td>\n",
       "    </tr>\n",
       "    <tr>\n",
       "      <td>2</td>\n",
       "      <td>8.971707</td>\n",
       "      <td>8.848428</td>\n",
       "      <td>3.046479</td>\n",
       "      <td>1.214518</td>\n",
       "      <td>3.405158</td>\n",
       "      <td>-1.207456</td>\n",
       "      <td>-1.277210</td>\n",
       "      <td>-0.920492</td>\n",
       "      <td>0.163041</td>\n",
       "      <td>0.766689</td>\n",
       "      <td>0.839444</td>\n",
       "      <td>0.109853</td>\n",
       "      <td>False</td>\n",
       "    </tr>\n",
       "    <tr>\n",
       "      <td>3</td>\n",
       "      <td>0.716415</td>\n",
       "      <td>7.669600</td>\n",
       "      <td>4.486641</td>\n",
       "      <td>2.340563</td>\n",
       "      <td>3.963791</td>\n",
       "      <td>-1.027473</td>\n",
       "      <td>-1.938944</td>\n",
       "      <td>-0.997374</td>\n",
       "      <td>0.446209</td>\n",
       "      <td>0.976744</td>\n",
       "      <td>0.929381</td>\n",
       "      <td>0.362718</td>\n",
       "      <td>False</td>\n",
       "    </tr>\n",
       "    <tr>\n",
       "      <td>4</td>\n",
       "      <td>3.134112</td>\n",
       "      <td>7.608772</td>\n",
       "      <td>4.943759</td>\n",
       "      <td>9.857573</td>\n",
       "      <td>3.525811</td>\n",
       "      <td>-1.125531</td>\n",
       "      <td>-1.845975</td>\n",
       "      <td>-0.554305</td>\n",
       "      <td>0.797110</td>\n",
       "      <td>0.455450</td>\n",
       "      <td>0.656947</td>\n",
       "      <td>0.820923</td>\n",
       "      <td>False</td>\n",
       "    </tr>\n",
       "  </tbody>\n",
       "</table>\n",
       "</div>"
      ],
      "text/plain": [
       "       tau1      tau2      tau3      tau4        p1        p2        p3  \\\n",
       "0  2.959060  3.079885  8.381025  9.780754  3.763085 -0.782604 -1.257395   \n",
       "1  9.304097  4.902524  3.047541  1.369357  5.067812 -1.940058 -1.872742   \n",
       "2  8.971707  8.848428  3.046479  1.214518  3.405158 -1.207456 -1.277210   \n",
       "3  0.716415  7.669600  4.486641  2.340563  3.963791 -1.027473 -1.938944   \n",
       "4  3.134112  7.608772  4.943759  9.857573  3.525811 -1.125531 -1.845975   \n",
       "\n",
       "         p4        g1        g2        g3        g4  target  \n",
       "0 -1.723086  0.650456  0.859578  0.887445  0.958034   False  \n",
       "1 -1.255012  0.413441  0.862414  0.562139  0.781760    True  \n",
       "2 -0.920492  0.163041  0.766689  0.839444  0.109853   False  \n",
       "3 -0.997374  0.446209  0.976744  0.929381  0.362718   False  \n",
       "4 -0.554305  0.797110  0.455450  0.656947  0.820923   False  "
      ]
     },
     "execution_count": 5,
     "metadata": {},
     "output_type": "execute_result"
    }
   ],
   "source": [
    "train_df = pd.concat([train_values, train_y], axis=1)\n",
    "train_df.head()"
   ]
  },
  {
   "cell_type": "markdown",
   "metadata": {},
   "source": [
    "# Exploration"
   ]
  },
  {
   "cell_type": "code",
   "execution_count": 6,
   "metadata": {},
   "outputs": [
    {
     "data": {
      "image/png": "[encoded data removed]",
      "text/plain": [
       "<Figure size 432x288 with 1 Axes>"
      ]
     },
     "metadata": {
      "needs_background": "light"
     },
     "output_type": "display_data"
    }
   ],
   "source": [
    "_ = train_values.boxplot()"
   ]
  },
  {
   "cell_type": "markdown",
   "metadata": {},
   "source": [
    "Der Datensatz scheint **frei von eindimensionalen Outliern** zu sien."
   ]
  },
  {
   "cell_type": "code",
   "execution_count": 7,
   "metadata": {},
   "outputs": [
    {
     "data": {
      "image/png": "[encoded data removed]",
      "text/plain": [
       "<Figure size 792x360 with 2 Axes>"
      ]
     },
     "metadata": {
      "needs_background": "light"
     },
     "output_type": "display_data"
    }
   ],
   "source": [
    "f, ax = plt.subplots(figsize=(11, 5))\n",
    "ax = sns.heatmap(train_df.corr(), annot=True, fmt=\".2f\")"
   ]
  },
  {
   "cell_type": "markdown",
   "metadata": {},
   "source": [
    "Wir sehen dass alle Prädiktoren ausser p1 unkorreliert sind. Attribut p1 ist zu 60% mit p2, p3 und p4 korreliert.\\\n",
    "Diese Korrelation wird durch **p1 = abs(p2 + p3 + p4)** erklärt, wie aus der Dokumentation zu entnehmen ist.\\\n",
    "Wahrscheinlich sollte **p1 als Prädiktor entfernt** werden.\n",
    "\n",
    "Ausserdem sehen wir, dasss **p1, p2, p3, p4** nicht mit unserem Target korreliert sind.\\\n",
    "Das suggeriert, dass diese Variablen **alleinestehend keine guten Prädiktoren** sind.\\\n",
    "Sie könnten aber trotzdem in Kombination wichtige Informationen liefern. ==> **Vergleiche Ergebnisse mit und ohne die `p`-Prädiktoren.**"
   ]
  },
  {
   "cell_type": "markdown",
   "metadata": {},
   "source": [
    "# Feature Engineering (Input Values)"
   ]
  },
  {
   "cell_type": "code",
   "execution_count": 8,
   "metadata": {},
   "outputs": [],
   "source": [
    "train_df\n",
    "\n",
    "train_x = train_values.apply(lambda x: (x-min(x))/(max(x)-min(x)))\n",
    "train_df_norm = pd.concat([train_x, train_y], axis=1)\n",
    "\n",
    "train_x = train_values.drop([\"p1\", 'p2', 'p3', 'p4'], axis=1).apply(lambda x: (x-min(x))/(max(x)-min(x)))\n",
    "train_df_norm_no_p = pd.concat([train_x, train_y], axis=1)"
   ]
  },
  {
   "cell_type": "markdown",
   "metadata": {},
   "source": [
    "Vergleiche Performance von zwei verschiedenen Prädiktor-Mengen:\\\n",
    "**train_df_norm**: alle Prädiktoren, aber normalisiert\\\n",
    "**train_df_norm_no_p**: normalisiert und ohne die `p`-Prädiktoren\n",
    "\n",
    "Da der Datensatz keine eindimensionalen Outlier enthält sollte der Normalisierungsprozess durch solche nicht gestört werden."
   ]
  },
  {
   "cell_type": "markdown",
   "metadata": {},
   "source": [
    "# Benchmark"
   ]
  },
  {
   "cell_type": "markdown",
   "metadata": {},
   "source": [
    "Die Klassenwahrscheinlichkeiten sind\\\n",
    "`unstable    5104\n",
    "stable      2896`\\\n",
    "Das heisst ein Datenpunkt ist mit einer Wahrscheinlichkeit von p=36.2% stable.\\\n",
    "Der erwartete Matthews Correlation Coefficient (MCC) eines Baseline-Klassifiers, der nur die Klassenwahrscheinlichkeit lernt ist 0.\\\n",
    "**MCC <sub>baseline</sub> = 0**"
   ]
  },
  {
   "cell_type": "markdown",
   "metadata": {},
   "source": [
    "# Logistic Regression"
   ]
  },
  {
   "cell_type": "code",
   "execution_count": 22,
   "metadata": {},
   "outputs": [
    {
     "name": "stdout",
     "output_type": "stream",
     "text": [
      "train_df_norm\n",
      "-----------------\n",
      "[0.59139539 0.6133019  0.55953904 0.65004864 0.61072645 0.60629775\n",
      " 0.56815375 0.57156525]\n",
      "Mean MCC: 0.5963785236274002\n",
      "\n",
      "train_df_norm_no_p\n",
      "-----------------\n",
      "[0.58692346 0.60731182 0.55927935 0.65181332 0.61908286 0.60186905\n",
      " 0.56783378 0.56071638]\n",
      "Mean MCC: 0.5943537541171258\n",
      "\n"
     ]
    }
   ],
   "source": [
    "from sklearn.linear_model import LogisticRegression\n",
    "clf = LogisticRegression(solver='lbfgs')\n",
    "cross_validate_datasets(clf)"
   ]
  },
  {
   "cell_type": "markdown",
   "metadata": {},
   "source": [
    "Mit Logistic Regression verbessern wir uns im Vergleich zur ursprünglichen Benchmark zu einem **MCC von ~60**."
   ]
  },
  {
   "cell_type": "markdown",
   "metadata": {},
   "source": [
    "# KNearestNeighbor"
   ]
  },
  {
   "cell_type": "code",
   "execution_count": 9,
   "metadata": {},
   "outputs": [],
   "source": [
    "from sklearn.neighbors import KNeighborsClassifier\n",
    "knn = KNeighborsClassifier()"
   ]
  },
  {
   "cell_type": "code",
   "execution_count": 10,
   "metadata": {},
   "outputs": [],
   "source": [
    "def cross_validate_datasets(clf, cvs=8, use_original=True):\n",
    "    for name, dataset in [('train_df_norm', train_df_norm), ('train_df_norm_no_p', train_df_norm_no_p)]:\n",
    "        if use_original==False and name=='train_df': continue\n",
    "        scores = cross_val_score(clf, dataset.iloc[:, :-1], dataset.iloc[:, -1], scoring=matthews_scorer, cv=cvs)\n",
    "        print(f\"{name}\\n-----------------\")\n",
    "        print(scores)\n",
    "        print(f\"Mean MCC: {scores.mean()}\\n\")"
   ]
  },
  {
   "cell_type": "code",
   "execution_count": 11,
   "metadata": {},
   "outputs": [
    {
     "name": "stdout",
     "output_type": "stream",
     "text": [
      "train_df_norm\n",
      "-----------------\n",
      "[0.65796873 0.68537563 0.68113449 0.70990226 0.66929072 0.70667721\n",
      " 0.68513599 0.66760327]\n",
      "Mean MCC: 0.682886038241878\n",
      "\n",
      "train_df_norm_no_p\n",
      "-----------------\n",
      "[0.75468768 0.77904043 0.75086834 0.79710436 0.79454674 0.73897077\n",
      " 0.77723173 0.74566101]\n",
      "Mean MCC: 0.7672638814878454\n",
      "\n"
     ]
    }
   ],
   "source": [
    "cross_validate_datasets(knn)"
   ]
  },
  {
   "cell_type": "markdown",
   "metadata": {},
   "source": [
    "Für den KNN-Algorithmus mit n_neighbors=5:\\\n",
    "Der erreichte MCC mit dem KNN-Algorithmus ist besser als der durch LogisticRegression erreichte, und verbessert sich noch mehr, indem man die `p`-Prädiktoren nicht benutzt."
   ]
  },
  {
   "cell_type": "markdown",
   "metadata": {},
   "source": [
    "## Hyperparameter Tuning"
   ]
  },
  {
   "cell_type": "code",
   "execution_count": 12,
   "metadata": {},
   "outputs": [
    {
     "name": "stderr",
     "output_type": "stream",
     "text": [
      "D:\\Adrian\\lib\\site-packages\\sklearn\\model_selection\\_split.py:1978: FutureWarning: The default value of cv will change from 3 to 5 in version 0.22. Specify it explicitly to silence this warning.\n",
      "  warnings.warn(CV_WARNING, FutureWarning)\n"
     ]
    }
   ],
   "source": [
    "param_grid = [ {'n_neighbors' : [2, 3, 4, 5, 6, 7, 8, 9, 10, 12, 14, 16, 18, 20] } ]\n",
    "grids = GridSearchCV(knn, param_grid=param_grid, scoring=matthews_scorer, cv=8)\n",
    "_ = grids.fit(train_df_norm_no_p.iloc[:, :-1], train_df_norm_no_p.iloc[:, -1])"
   ]
  },
  {
   "cell_type": "code",
   "execution_count": 13,
   "metadata": {},
   "outputs": [
    {
     "data": {
      "image/png": "[encoded data removed]",
      "text/plain": [
       "<Figure size 432x288 with 1 Axes>"
      ]
     },
     "metadata": {
      "needs_background": "light"
     },
     "output_type": "display_data"
    }
   ],
   "source": [
    "_ = plt.plot(param_grid[0]['n_neighbors'], grids.cv_results_['mean_test_score'])"
   ]
  },
  {
   "cell_type": "markdown",
   "metadata": {},
   "source": [
    "Sieht sehr **instabil**, d.h. zackig aus, aber grössere `k` scheinen den MCC zu verbessern bis ungefähr `k=10`.\\\n",
    "Ein **MCC von ungefähr 0.78** wird mit grösseren `k` beständig erreicht.  "
   ]
  },
  {
   "cell_type": "markdown",
   "metadata": {},
   "source": [
    "# Random Forest"
   ]
  },
  {
   "cell_type": "code",
   "execution_count": 14,
   "metadata": {},
   "outputs": [
    {
     "name": "stdout",
     "output_type": "stream",
     "text": [
      "train_df_norm\n",
      "-----------------\n",
      "[0.82987119 0.84754532 0.83472919 0.83216633 0.81019115 0.85409758\n",
      " 0.82820598 0.79008994]\n",
      "Mean MCC: 0.8283620849909556\n",
      "\n",
      "train_df_norm_no_p\n",
      "-----------------\n",
      "[0.84523692 0.8496229  0.83689031 0.8452579  0.83870553 0.85194197\n",
      " 0.83719421 0.79899187]\n",
      "Mean MCC: 0.8379802031600927\n",
      "\n"
     ]
    }
   ],
   "source": [
    "from sklearn.ensemble import RandomForestClassifier\n",
    "clf = RandomForestClassifier(n_estimators=500)\n",
    "cross_validate_datasets(clf)"
   ]
  },
  {
   "cell_type": "markdown",
   "metadata": {},
   "source": [
    "Im Vergleich zum KNN-Algorithmus erreichen wir einen besseren **MC von ungefähr 83**.\\\n",
    "Durch das weglassen der `p`-Prädiktoren erhalten wir erneut ein leicht besseres Ergebnis."
   ]
  },
  {
   "cell_type": "code",
   "execution_count": null,
   "metadata": {},
   "outputs": [],
   "source": []
  }
 ],
 "metadata": {
  "kernelspec": {
   "display_name": "Python 3.7.4 64-bit ('base': conda)",
   "language": "python",
   "name": "python37464bitbasecondac8733e1b30c84f3485c49abe178f9245"
  },
  "language_info": {
   "codemirror_mode": {
    "name": "ipython",
    "version": 3
   },
   "file_extension": ".py",
   "mimetype": "text/x-python",
   "name": "python",
   "nbconvert_exporter": "python",
   "pygments_lexer": "ipython3",
   "version": "3.7.4"
  }
 },
 "nbformat": 4,
 "nbformat_minor": 4
}
